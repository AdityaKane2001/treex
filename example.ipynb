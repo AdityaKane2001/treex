{
 "cells": [
  {
   "cell_type": "markdown",
   "id": "b62b3376",
   "metadata": {
    "cell_marker": "\"\"\""
   },
   "source": [
    "# Treex\n",
    "\n",
    "**Main features**:\n",
    "* Modules contain their parameters\n",
    "* Easy transfer learning\n",
    "* Simple initialization\n",
    "* No metaclass magic\n",
    "* No apply method\n",
    "* No need special versions of `vmap`, `jit`, and friends.\n",
    "\n",
    "To prove the previous we will start with by creating a very contrived but complete module which will use everything from parameters, states, and random state:"
   ]
  },
  {
   "cell_type": "code",
   "execution_count": 1,
   "id": "db0cd7a4",
   "metadata": {
    "execution": {
     "iopub.execute_input": "2021-08-16T15:46:50.271478Z",
     "iopub.status.busy": "2021-08-16T15:46:50.262972Z",
     "iopub.status.idle": "2021-08-16T15:46:51.038608Z",
     "shell.execute_reply": "2021-08-16T15:46:51.037610Z"
    }
   },
   "outputs": [
    {
     "name": "stderr",
     "output_type": "stream",
     "text": [
      "WARNING:absl:No GPU/TPU found, falling back to CPU. (Set TF_CPP_MIN_LOG_LEVEL=0 and rerun for more info.)\n"
     ]
    },
    {
     "data": {
      "text/plain": [
       "NoisyStatefulLinear(w=Initializer, b=Initializer, count=1, rng=Initializer)"
      ]
     },
     "execution_count": 1,
     "metadata": {},
     "output_type": "execute_result"
    }
   ],
   "source": [
    "from typing import Tuple\n",
    "import jax.numpy as jnp\n",
    "import numpy as np\n",
    "\n",
    "import treex as tx\n",
    "\n",
    "\n",
    "class NoisyStatefulLinear(tx.Module):\n",
    "    # tree parts are defined by treex annotations\n",
    "    w: tx.Parameter\n",
    "    b: tx.Parameter\n",
    "    count: tx.State\n",
    "    rng: tx.Rng\n",
    "\n",
    "    # other annotations are possible but ignored by type\n",
    "    name: str\n",
    "\n",
    "    def __init__(self, din, dout, name=\"noisy_stateful_linear\"):\n",
    "        self.name = name\n",
    "\n",
    "        # Initializers only expect RNG key\n",
    "        self.w = tx.Initializer(lambda k: jax.random.uniform(k, shape=(din, dout)))\n",
    "        self.b = tx.Initializer(lambda k: jax.random.uniform(k, shape=(dout,)))\n",
    "\n",
    "        # random state is JUST state, we can keep it locally\n",
    "        self.rng = tx.Initializer(lambda k: k)\n",
    "\n",
    "        # if value is known there is no need for an Initiaizer\n",
    "        self.count = jnp.array(1)\n",
    "\n",
    "    def __call__(self, x: np.ndarray) -> np.ndarray:\n",
    "        assert isinstance(self.count, jnp.ndarray)\n",
    "        assert isinstance(self.rng, jnp.ndarray)\n",
    "\n",
    "        # state can easily be updated\n",
    "        self.count = self.count + 1\n",
    "\n",
    "        # random state is no different :)\n",
    "        key, self.rng = jax.random.split(self.rng, 2)\n",
    "\n",
    "        # your typical linear operation\n",
    "        y = jnp.dot(x, self.w) + self.b\n",
    "\n",
    "        # add noise for fun\n",
    "        state_noise = 1.0 / self.count\n",
    "        random_noise = 0.8 * jax.random.normal(key, shape=y.shape)\n",
    "\n",
    "        return y + state_noise + random_noise\n",
    "\n",
    "    def __repr__(self) -> str:\n",
    "        return f\"NoisyStatefulLinear(w={self.w}, b={self.b}, count={self.count}, rng={self.rng})\"\n",
    "\n",
    "\n",
    "linear = NoisyStatefulLinear(1, 1)\n",
    "\n",
    "linear"
   ]
  },
  {
   "cell_type": "markdown",
   "id": "f6992640",
   "metadata": {
    "cell_marker": "\"\"\""
   },
   "source": [
    "### Initialization\n",
    "As advertised, initialization is easy, the only thing you need to do is to call `init` on your module with a random key:"
   ]
  },
  {
   "cell_type": "code",
   "execution_count": 2,
   "id": "fce1007c",
   "metadata": {
    "execution": {
     "iopub.execute_input": "2021-08-16T15:46:51.048578Z",
     "iopub.status.busy": "2021-08-16T15:46:51.043345Z",
     "iopub.status.idle": "2021-08-16T15:46:51.531257Z",
     "shell.execute_reply": "2021-08-16T15:46:51.531853Z"
    }
   },
   "outputs": [
    {
     "data": {
      "text/plain": [
       "NoisyStatefulLinear(w=[[0.91457367]], b=[0.42094743], count=1, rng=[1371681402 3011037117])"
      ]
     },
     "execution_count": 2,
     "metadata": {},
     "output_type": "execute_result"
    }
   ],
   "source": [
    "import jax\n",
    "\n",
    "linear = linear.init(key=jax.random.PRNGKey(42))\n",
    "linear"
   ]
  },
  {
   "cell_type": "markdown",
   "id": "ab029412",
   "metadata": {
    "cell_marker": "\"\"\""
   },
   "source": [
    "### Modules are Pytrees\n",
    "Its fundamentally important that modules are also Pytrees, we can check that they are by using `tree_map` with an arbitrary function:"
   ]
  },
  {
   "cell_type": "code",
   "execution_count": 3,
   "id": "38884b9c",
   "metadata": {
    "execution": {
     "iopub.execute_input": "2021-08-16T15:46:51.538112Z",
     "iopub.status.busy": "2021-08-16T15:46:51.537307Z",
     "iopub.status.idle": "2021-08-16T15:46:51.578829Z",
     "shell.execute_reply": "2021-08-16T15:46:51.578341Z"
    }
   },
   "outputs": [
    {
     "data": {
      "text/plain": [
       "NoisyStatefulLinear(w=[[1.8291473]], b=[0.84189487], count=2, rng=[2743362804 1727106938])"
      ]
     },
     "execution_count": 3,
     "metadata": {},
     "output_type": "execute_result"
    }
   ],
   "source": [
    "# its a pytree alright\n",
    "doubled = jax.tree_map(lambda x: 2 * x, linear)\n",
    "doubled"
   ]
  },
  {
   "cell_type": "markdown",
   "id": "a47cc82e",
   "metadata": {
    "cell_marker": "\"\"\""
   },
   "source": [
    "### Modules can be sliced\n",
    "An important feature of this Module system is that it can be sliced based on the type of its parameters, the `slice` method does exactly that:"
   ]
  },
  {
   "cell_type": "code",
   "execution_count": 4,
   "id": "326b5604",
   "metadata": {
    "execution": {
     "iopub.execute_input": "2021-08-16T15:46:51.583997Z",
     "iopub.status.busy": "2021-08-16T15:46:51.583510Z",
     "iopub.status.idle": "2021-08-16T15:46:51.585796Z",
     "shell.execute_reply": "2021-08-16T15:46:51.586146Z"
    }
   },
   "outputs": [
    {
     "name": "stdout",
     "output_type": "stream",
     "text": [
      "params=NoisyStatefulLinear(w=[[0.91457367]], b=[0.42094743], count=Nothing, rng=Nothing)\n",
      "states=NoisyStatefulLinear(w=Nothing, b=Nothing, count=1, rng=[1371681402 3011037117])\n"
     ]
    }
   ],
   "source": [
    "params = linear.slice(tx.Parameter)\n",
    "states = linear.slice(tx.State)\n",
    "\n",
    "print(f\"{params=}\")\n",
    "print(f\"{states=}\")"
   ]
  },
  {
   "cell_type": "markdown",
   "id": "85b84c57",
   "metadata": {
    "cell_marker": "\"\"\""
   },
   "source": [
    "Notice the following:\n",
    "* Both `params` and `states` are `NoisyStatefulLinear` objects, their type doesn't change after being sliced.\n",
    "* The fields that are filtered out by the `slice` on each field get a special value of type `tx.Nothing`.\n",
    "\n",
    "Why is this important? As we will see later, it is useful keep parameters and state separate as they will crusially flow though different parts of `value_and_grad`.\n",
    "\n",
    "### Modules can be merged\n",
    "This is just the inverse operation to `slice`, `merge` behaves like dict's `update` but returns a new module leaving the original modules intact:"
   ]
  },
  {
   "cell_type": "code",
   "execution_count": 5,
   "id": "bf15d850",
   "metadata": {
    "execution": {
     "iopub.execute_input": "2021-08-16T15:46:51.593167Z",
     "iopub.status.busy": "2021-08-16T15:46:51.592380Z",
     "iopub.status.idle": "2021-08-16T15:46:51.595128Z",
     "shell.execute_reply": "2021-08-16T15:46:51.595750Z"
    }
   },
   "outputs": [
    {
     "data": {
      "text/plain": [
       "NoisyStatefulLinear(w=[[0.91457367]], b=[0.42094743], count=1, rng=[1371681402 3011037117])"
      ]
     },
     "execution_count": 5,
     "metadata": {},
     "output_type": "execute_result"
    }
   ],
   "source": [
    "linear = params.merge(states)\n",
    "linear"
   ]
  },
  {
   "cell_type": "markdown",
   "id": "205187ab",
   "metadata": {
    "cell_marker": "\"\"\"",
    "lines_to_next_cell": 1
   },
   "source": [
    "### Modules compose\n",
    "As you'd expect, you can have modules inside ther modules, same as previously the key is to annotate the class fields. Here we will create an `MLP` class that uses two `NoisyStatefulLinear` modules:"
   ]
  },
  {
   "cell_type": "code",
   "execution_count": 6,
   "id": "cb244135",
   "metadata": {
    "execution": {
     "iopub.execute_input": "2021-08-16T15:46:51.627746Z",
     "iopub.status.busy": "2021-08-16T15:46:51.606443Z",
     "iopub.status.idle": "2021-08-16T15:46:51.874424Z",
     "shell.execute_reply": "2021-08-16T15:46:51.874866Z"
    }
   },
   "outputs": [
    {
     "data": {
      "text/plain": [
       "MLP(linear1=NoisyStatefulLinear(w=[[0.95598125 0.4032725 ]], b=[0.5371039  0.10409856], count=1, rng=[1371681402 3011037117]), linear2=NoisyStatefulLinear(w=[[0.7236692]\n",
       " [0.8625636]], b=[0.5354074], count=1, rng=[3818536016 1640990408]))"
      ]
     },
     "execution_count": 6,
     "metadata": {},
     "output_type": "execute_result"
    }
   ],
   "source": [
    "class MLP(tx.Module):\n",
    "    linear1: NoisyStatefulLinear\n",
    "    linear2: NoisyStatefulLinear\n",
    "\n",
    "    def __init__(self, din, dmid, dout):\n",
    "        self.linear1 = NoisyStatefulLinear(din, dmid, name=\"linear1\")\n",
    "        self.linear2 = NoisyStatefulLinear(dmid, dout, name=\"linear2\")\n",
    "\n",
    "    def __call__(self, x: np.ndarray) -> np.ndarray:\n",
    "        x = jax.nn.relu(self.linear1(x))\n",
    "        x = self.linear2(x)\n",
    "        return x\n",
    "\n",
    "    def __repr__(self) -> str:\n",
    "        return f\"MLP(linear1={self.linear1}, linear2={self.linear2})\"\n",
    "\n",
    "\n",
    "model = MLP(din=1, dmid=2, dout=1).init(key=42)\n",
    "model"
   ]
  },
  {
   "cell_type": "markdown",
   "id": "41fdaaf8",
   "metadata": {
    "cell_marker": "\"\"\""
   },
   "source": [
    "### Full Example\n",
    "Using the previous `model` we will show how to train it using the proposed Module system. First lets get some data:"
   ]
  },
  {
   "cell_type": "code",
   "execution_count": 7,
   "id": "d0d43a49",
   "metadata": {
    "execution": {
     "iopub.execute_input": "2021-08-16T15:46:51.881791Z",
     "iopub.status.busy": "2021-08-16T15:46:51.881101Z",
     "iopub.status.idle": "2021-08-16T15:46:52.255817Z",
     "shell.execute_reply": "2021-08-16T15:46:52.256402Z"
    }
   },
   "outputs": [
    {
     "data": {
      "image/png": "[encoded data removed]",
      "text/plain": [
       "<Figure size 432x288 with 1 Axes>"
      ]
     },
     "metadata": {
      "needs_background": "light"
     },
     "output_type": "display_data"
    }
   ],
   "source": [
    "import numpy as np\n",
    "import matplotlib.pyplot as plt\n",
    "\n",
    "np.random.seed(0)\n",
    "\n",
    "\n",
    "def get_data(dataset_size: int) -> Tuple[np.ndarray, np.ndarray]:\n",
    "    x = np.random.normal(size=(dataset_size, 1))\n",
    "    y = 5 * x - 2 + 0.4 * np.random.normal(size=(dataset_size, 1))\n",
    "    return x, y\n",
    "\n",
    "\n",
    "def get_batch(\n",
    "    data: Tuple[np.ndarray, np.ndarray], batch_size: int\n",
    ") -> Tuple[np.ndarray, np.ndarray]:\n",
    "    idx = np.random.choice(len(data[0]), batch_size)\n",
    "    return jax.tree_map(lambda x: x[idx], data)\n",
    "\n",
    "\n",
    "data = get_data(1000)\n",
    "\n",
    "plt.scatter(data[0], data[1])\n",
    "plt.show()"
   ]
  },
  {
   "cell_type": "markdown",
   "id": "cefd9bae",
   "metadata": {
    "cell_marker": "\"\"\""
   },
   "source": [
    "Now we will be reusing the previous MLP model, and we will create an optax optimizer that will be used to train the model:"
   ]
  },
  {
   "cell_type": "code",
   "execution_count": 8,
   "id": "332b2625",
   "metadata": {
    "execution": {
     "iopub.execute_input": "2021-08-16T15:46:52.262392Z",
     "iopub.status.busy": "2021-08-16T15:46:52.261936Z",
     "iopub.status.idle": "2021-08-16T15:46:52.365976Z",
     "shell.execute_reply": "2021-08-16T15:46:52.366416Z"
    }
   },
   "outputs": [],
   "source": [
    "import optax\n",
    "\n",
    "optimizer = optax.adam(1e-2)\n",
    "\n",
    "params = model.slice(tx.Parameter)\n",
    "states = model.slice(tx.State)\n",
    "\n",
    "opt_state = optimizer.init(params)"
   ]
  },
  {
   "cell_type": "markdown",
   "id": "88b5fd61",
   "metadata": {
    "cell_marker": "\"\"\"",
    "lines_to_next_cell": 0
   },
   "source": [
    "Notice that we are already splitting the model into `params` and `states` since we need to pass the `params` only to the optimizer. Next we will create the loss function, it will take the model parts and the data parts and return the loss plus the new states:"
   ]
  },
  {
   "cell_type": "code",
   "execution_count": 9,
   "id": "2a5505d7",
   "metadata": {
    "execution": {
     "iopub.execute_input": "2021-08-16T15:46:52.371791Z",
     "iopub.status.busy": "2021-08-16T15:46:52.371320Z",
     "iopub.status.idle": "2021-08-16T15:46:52.373018Z",
     "shell.execute_reply": "2021-08-16T15:46:52.373368Z"
    }
   },
   "outputs": [],
   "source": [
    "from functools import partial\n",
    "\n",
    "\n",
    "@partial(jax.value_and_grad, has_aux=True)\n",
    "def loss_fn(params: MLP, states: MLP, x, y):\n",
    "\n",
    "    # merge params and states to get a full model\n",
    "    model: MLP = params.merge(states)\n",
    "\n",
    "    # apply model\n",
    "    pred_y = model(x)\n",
    "\n",
    "    # MSE loss\n",
    "    loss = jnp.mean((y - pred_y) ** 2)\n",
    "\n",
    "    # new states\n",
    "    states = model.slice(tx.State)\n",
    "\n",
    "    return loss, states"
   ]
  },
  {
   "cell_type": "markdown",
   "id": "dad97faf",
   "metadata": {
    "cell_marker": "\"\"\"",
    "lines_to_next_cell": 1
   },
   "source": [
    "Notice that the first thing we are doing is merging the `params` and `states` into the complete model since we need everything in place to perform the forward pass. Also, we return the updated states from the model, this is needed because JAX functional API requires us to be explicit about state management.\n",
    "\n",
    "**Note**: inside `loss_fn` (which is wrapped by `value_and_grad`) module can behave like a regular mutable python object, however, every time its treated as pytree a new reference will be created as happens in `jit`, `grad`, `vmap`, etc. Its important to keep this into account when using functions like `vmap` inside a module as certain book keeping will be needed to manage state correctly.\n",
    "\n",
    "Next we will implement the `update` function, it will look indistinguishable from your standard Haiku update which also separates weights into `params` and `states`: "
   ]
  },
  {
   "cell_type": "code",
   "execution_count": 10,
   "id": "e9b8797a",
   "metadata": {
    "execution": {
     "iopub.execute_input": "2021-08-16T15:46:52.378820Z",
     "iopub.status.busy": "2021-08-16T15:46:52.377766Z",
     "iopub.status.idle": "2021-08-16T15:46:52.381074Z",
     "shell.execute_reply": "2021-08-16T15:46:52.381454Z"
    }
   },
   "outputs": [],
   "source": [
    "@jax.jit\n",
    "def update(params: MLP, states: MLP, opt_state, x, y):\n",
    "    (loss, states), grads = loss_fn(params, states, x, y)\n",
    "    updates, opt_state = optimizer.update(grads, opt_state, params)\n",
    "\n",
    "    # use regular optax\n",
    "    params = optax.apply_updates(params, updates)\n",
    "\n",
    "    return params, states, opt_state, loss"
   ]
  },
  {
   "cell_type": "markdown",
   "id": "eb479e62",
   "metadata": {
    "cell_marker": "\"\"\""
   },
   "source": [
    "Finally we create a simple training loop that perform a few thousand updates and merge `params` and `states` back into a single `model` at the end:"
   ]
  },
  {
   "cell_type": "code",
   "execution_count": 11,
   "id": "c2636908",
   "metadata": {
    "execution": {
     "iopub.execute_input": "2021-08-16T15:46:52.485908Z",
     "iopub.status.busy": "2021-08-16T15:46:52.446395Z",
     "iopub.status.idle": "2021-08-16T15:46:56.317446Z",
     "shell.execute_reply": "2021-08-16T15:46:56.317040Z"
    }
   },
   "outputs": [
    {
     "name": "stdout",
     "output_type": "stream",
     "text": [
      "[0] loss = 36.88694763183594\n"
     ]
    },
    {
     "name": "stdout",
     "output_type": "stream",
     "text": [
      "[1000] loss = 2.011059045791626\n"
     ]
    },
    {
     "name": "stdout",
     "output_type": "stream",
     "text": [
      "[2000] loss = 5.2326812744140625\n"
     ]
    },
    {
     "name": "stdout",
     "output_type": "stream",
     "text": [
      "[3000] loss = 1.7426897287368774\n"
     ]
    },
    {
     "name": "stdout",
     "output_type": "stream",
     "text": [
      "[4000] loss = 1.2130391597747803\n"
     ]
    },
    {
     "name": "stdout",
     "output_type": "stream",
     "text": [
      "[5000] loss = 1.6681632995605469\n"
     ]
    },
    {
     "name": "stdout",
     "output_type": "stream",
     "text": [
      "[6000] loss = 1.029949426651001\n"
     ]
    },
    {
     "name": "stdout",
     "output_type": "stream",
     "text": [
      "[7000] loss = 1.301844835281372\n"
     ]
    },
    {
     "name": "stdout",
     "output_type": "stream",
     "text": [
      "[8000] loss = 0.878564715385437\n"
     ]
    },
    {
     "name": "stdout",
     "output_type": "stream",
     "text": [
      "[9000] loss = 1.4557385444641113\n"
     ]
    }
   ],
   "source": [
    "steps = 10_000\n",
    "\n",
    "for step in range(steps):\n",
    "    x, y = get_batch(data, batch_size=32)\n",
    "\n",
    "    params, states, opt_state, loss = update(params, states, opt_state, x, y)\n",
    "\n",
    "    if step % 1000 == 0:\n",
    "        print(f\"[{step}] loss = {loss}\")\n",
    "\n",
    "# get the final model\n",
    "model = params.merge(states)"
   ]
  },
  {
   "cell_type": "markdown",
   "id": "13aaabda",
   "metadata": {
    "cell_marker": "\"\"\""
   },
   "source": [
    "Now lets generate some test data and see how our model performed:"
   ]
  },
  {
   "cell_type": "code",
   "execution_count": 12,
   "id": "8f02bfdf",
   "metadata": {
    "execution": {
     "iopub.execute_input": "2021-08-16T15:46:56.324933Z",
     "iopub.status.busy": "2021-08-16T15:46:56.324206Z",
     "iopub.status.idle": "2021-08-16T15:46:57.797587Z",
     "shell.execute_reply": "2021-08-16T15:46:57.798062Z"
    }
   },
   "outputs": [
    {
     "data": {
      "image/png": "[encoded data removed]",
      "text/plain": [
       "<Figure size 432x288 with 1 Axes>"
      ]
     },
     "metadata": {
      "needs_background": "light"
     },
     "output_type": "display_data"
    }
   ],
   "source": [
    "import matplotlib.pyplot as plt\n",
    "\n",
    "X_test = np.linspace(data[0].min(), data[0].max(), 100)[:, None]\n",
    "y_pred = model(X_test)\n",
    "\n",
    "plt.scatter(data[0], data[1], label=\"data\", color=\"k\")\n",
    "plt.plot(X_test, y_pred, label=\"prediction\")\n",
    "plt.legend()\n",
    "plt.show()"
   ]
  },
  {
   "cell_type": "markdown",
   "id": "b64191ef",
   "metadata": {
    "cell_marker": "\"\"\""
   },
   "source": [
    "As you can see the model learned the general trend but because of the `NoisyStatefulLinear` modules we have a bit of noise in the predictions."
   ]
  }
 ],
 "metadata": {
  "jupytext": {
   "cell_metadata_filter": "-all"
  },
  "kernelspec": {
   "display_name": "Python 3.8.1 64-bit ('.venv': poetry)",
   "language": "python",
   "name": "python381jvsc74a57bd0e83beb2096c46aacf9a9e0fbc7f3031b5c13c8f9b1f2e4cffcbeb7cd88d847d0"
  },
  "language_info": {
   "codemirror_mode": {
    "name": "ipython",
    "version": 3
   },
   "file_extension": ".py",
   "mimetype": "text/x-python",
   "name": "python",
   "nbconvert_exporter": "python",
   "pygments_lexer": "ipython3",
   "version": "3.8.1"
  }
 },
 "nbformat": 4,
 "nbformat_minor": 5
}
